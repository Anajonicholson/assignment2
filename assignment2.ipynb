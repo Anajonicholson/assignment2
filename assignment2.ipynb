{
 "cells": [
  {
   "cell_type": "markdown",
   "metadata": {
    "id": "13ad028b-72b7-43ed-aa78-96fd4e518040"
   },
   "source": [
    "# Assignment: Data Wrangling and Exploratory Data Analysis\n",
    "## Do Q1 and Q2, and one other question (I did #5).\n",
    "`! git clone https://www.github.com/DS3001/assignment2`"
   ]
  },
  {
   "cell_type": "markdown",
   "metadata": {
    "id": "5735a4d4-8be8-433a-a351-70eb8002e632"
   },
   "source": [
    "**Q1.** Open the \"tidy_data.pdf\" document in the repo, which is a paper called Tidy Data by Hadley Wickham.\n",
    "\n",
    "  1. Read the abstract. What is this paper about? \n",
    "  \n",
    "      This paper fouses on the difficulties in tidying data and how from the outside it can be complicated. It goes into detail about the key tools needed to be used during data cleaning to create a more consistent data structure to clean messy data efficiently. \n",
    "  \n",
    "  2. Read the introduction. What is the \"tidy data standard\" intended to accomplish?\n",
    "  \n",
    "      The \"tidy data standard\" was designed to take the tools needed for cleaning data and simplifying them to bring them together. It removes the necessity of starting from scratch every time. \n",
    "      \n",
    "  3. Read the intro to section 2. What does this sentence mean: \"Like families, tidy datasets are all alike but every messy dataset is messy in its own way.\" What does this sentence mean: \"For a given dataset, it’s usually easy to figure out what are observations and what are variables, but it is surprisingly difficult to precisely define variables and observations in general.\"\n",
    "  \n",
    "      The first sentence is referencing how all tidy data contains three things; each variable forms a column, each observation froms a row, and each observational unit forms a table. Messy data, on the other hand, can be any other arrangement, meaning that there is no limit to how messy the data is. The second sentence means that when comparing all of the variables and observations, it can be difficult to determine which is what because they can fall into subcategories. It is the most easy to compare variables rather than rows, and observations rather than columns. \n",
    "  \n",
    "  4. Read Section 2.2. How does Wickham define values, variables, and observations?\n",
    "  \n",
    "      Values: qualitative (strings) or quantitative (numbers).\n",
    "      Variables: One variable will contain all of the values that measure a single attribute (can use multiple units).\n",
    "      Observations: One observation will contain all values that are measured on the same unit across multiple attributes. \n",
    "  \n",
    "  5. How is \"Tidy Data\" defined in section 2.3?\n",
    "  \n",
    "      Tidy data contains columns and tables that are matched up with the respective observations, variables, and types. Variable --> column, observation --> row, observational unit --> table.\n",
    "  \n",
    "  6. Read the intro to Section 3 and Section 3.1. What are the 5 most common problems with messy datasets? Why are the data in Table 4 messy? What is \"melting\" a dataset?\n",
    "  \n",
    "      The five most common problems according to section 3:\n",
    "      • Column headers are values, not variable names.\n",
    "      • Multiple variables are stored in one column.\n",
    "      • Variables are stored in both rows and columns.\n",
    "      • Multiple types of observational units are stored in the same table.\n",
    "      • A single observational unit is stored in multiple tables.\n",
    "      Data in table 4 is considered messy because the rows and the columns both contain variables, and the column headers are values instead of variable neames. Melting a data set is turning the columns into rows for cleaning purposes. \n",
    "\n",
    "  7. Why, specifically, is table 11 messy but table 12 tidy and \"molten\"?\n",
    "  \n",
    "      Table 11 is messy because the headers of the columns are values, while table 12 has column headers of variable names of which the values are shown below. In other words, they melted the data set by changing the column headers into the rows. \n",
    "  \n",
    "  8. Read Section 6. What is the \"chicken-and-egg\" problem with focusing on tidy data? What does Wickham hope happens in the future with further work on the subject of data wrangling?\n",
    "  \n",
    "      The chicken and egg problem is that tidying data requires the data tidying tools, and the data tidying tools are only focused on tidying data, so working with each of these things individually may never improve the work. He hopes that in the future these tools can be improved and the framework can be continuously developed. "
   ]
  },
  {
   "cell_type": "markdown",
   "metadata": {
    "id": "da879ea7-8aac-48a3-b6c2-daea56d2e072"
   },
   "source": [
    "**Q2.** This question provides some practice cleaning variables which have common problems.\n",
    "1. Numeric variable: For `./data/airbnb_hw.csv`, clean the `Price` variable as well as you can, and explain the choices you make. How many missing values do you end up with? (Hint: What happens to the formatting when a price goes over 999 dollars, say from 675 to 1,112?)\n",
    "2. Categorical variable: For the `./data/sharks.csv` data covered in the lecture, clean the \"Type\" variable as well as you can, and explain the choices you make.\n",
    "3. Dummy variable: For the pretrial data covered in the lecture, clean the `WhetherDefendantWasReleasedPretrial` variable as well as you can, and, in particular, replace missing values with `np.nan`.\n",
    "4. Missing values, not at random: For the pretrial data covered in the lecture, clean the `ImposedSentenceAllChargeInContactEvent` variable as well as you can, and explain the choices you make. (Hint: Look at the `SentenceTypeAllChargesAtConvictionInContactEvent` variable.)"
   ]
  },
  {
   "cell_type": "code",
   "execution_count": 17,
   "metadata": {},
   "outputs": [
    {
     "name": "stdout",
     "output_type": "stream",
     "text": [
      "Host Id                         int64\n",
      "Host Since                     object\n",
      "Name                           object\n",
      "Neighbourhood                  object\n",
      "Property Type                  object\n",
      "Review Scores Rating (bin)    float64\n",
      "Room Type                      object\n",
      "Zipcode                       float64\n",
      "Beds                          float64\n",
      "Number of Records               int64\n",
      "Number Of Reviews               int64\n",
      "Price                          object\n",
      "Review Scores Rating          float64\n",
      "dtype: object \n",
      "\n",
      "Host Id                         int64\n",
      "Host Since                     object\n",
      "Name                           object\n",
      "Neighbourhood                  object\n",
      "Property Type                  object\n",
      "Review Scores Rating (bin)    float64\n",
      "Room Type                      object\n",
      "Zipcode                       float64\n",
      "Beds                          float64\n",
      "Number of Records               int64\n",
      "Number Of Reviews               int64\n",
      "Price                         float64\n",
      "Review Scores Rating          float64\n",
      "dtype: object \n",
      "\n",
      "After coercion: \n",
      " count    30297.000000\n",
      "mean       153.357032\n",
      "std        108.895698\n",
      "min         10.000000\n",
      "25%         80.000000\n",
      "50%        125.000000\n",
      "75%        192.000000\n",
      "max        999.000000\n",
      "Name: Price, dtype: float64 \n",
      "\n",
      "Total Missings: \n",
      " 181 \n",
      "\n"
     ]
    },
    {
     "data": {
      "image/png": "[encoded data removed]",
      "text/plain": [
       "<Figure size 432x288 with 1 Axes>"
      ]
     },
     "metadata": {
      "needs_background": "light"
     },
     "output_type": "display_data"
    }
   ],
   "source": [
    "#problem 1\n",
    "import numpy as np\n",
    "import pandas as pd\n",
    "df = pd.read_csv('./data/airbnb_hw.csv',low_memory=False)\n",
    "print(df.dtypes, '\\n') # See what type of variable price is\n",
    "var = 'Price'\n",
    "df[var].str.replace(',','') #I did this because the numbers over 999 have a comma in them, which causes the type of the variable to become an object.\n",
    "\n",
    "# Coerce a variable to numeric:\n",
    "df[var] = pd.to_numeric(df[var], errors='coerce') # Coerce the variable to numeric\n",
    "print(df.dtypes, '\\n')\n",
    "# Create a missing value dummy:\n",
    "df[var+'_nan'] = df[var].isnull() # Equals 1 if missing, 0 if non-null\n",
    "\n",
    "# After coercion:\n",
    "print('After coercion: \\n', df[var].describe(),'\\n') # Describe the numeric variable to see if it is still 'object'\n",
    "df[var].hist(bins = 50) # Histogram of the variable values (the max value is 999, I am not sure how to fix this)\n",
    "print('Total Missings: \\n', sum(df[var+'_nan']),'\\n') # There are 181 missing values"
   ]
  },
  {
   "cell_type": "code",
   "execution_count": 13,
   "metadata": {},
   "outputs": [
    {
     "name": "stdout",
     "output_type": "stream",
     "text": [
      "index             int64\n",
      "Case Number      object\n",
      "Date             object\n",
      "Year            float64\n",
      "Type             object\n",
      "                 ...   \n",
      "Unnamed: 251    float64\n",
      "Unnamed: 252    float64\n",
      "Unnamed: 253    float64\n",
      "Unnamed: 254    float64\n",
      "Unnamed: 255    float64\n",
      "Length: 257, dtype: object \n",
      "\n",
      "['Unprovoked' 'Provoked' 'Questionable' 'Watercraft' 'Unconfirmed'\n",
      " 'Unverified' 'Invalid' 'Under investigation' 'Boating' 'Sea Disaster' nan\n",
      " 'Boat' 'Boatomg'] \n",
      "\n",
      "Unprovoked             4716\n",
      "Provoked                593\n",
      "Invalid                 552\n",
      "Sea Disaster            239\n",
      "Watercraft              142\n",
      "Boat                    109\n",
      "Boating                  92\n",
      "Questionable             10\n",
      "Boatomg                   1\n",
      "Under investigation       1\n",
      "Unconfirmed               1\n",
      "Unverified                1\n",
      "Name: Type, dtype: int64 \n",
      "\n",
      "Unprovoked      4716\n",
      "Provoked         593\n",
      "Unconfirmed      565\n",
      "Watercraft       344\n",
      "Sea Disaster     239\n",
      "Name: Type, dtype: int64\n"
     ]
    }
   ],
   "source": [
    "# Problem 2 Categorical variable: For the ./data/sharks.csv data covered in the lecture, clean the \"Type\" variable as well as you can, and explain the choices you make.\n",
    "import numpy as np\n",
    "import pandas as pd\n",
    "df = pd.read_csv('./data/sharks.csv',low_memory=False)\n",
    "var = 'Type'\n",
    "print(df.dtypes, '\\n') # The types of the variables\n",
    "print(df[var].unique(),'\\n') # determine the categories under type\n",
    "print(df[var].value_counts(), '\\n')\n",
    "df[var] = df[var].replace( ['Boat','Boating', 'Boatomg', 'Watercraft'], 'Watercraft') #Combine all of the boating categories\n",
    "df[var] = df[var].replace( ['Unverified', 'Unconfirmed', 'Under investigation', 'Questionable', 'Invalid'], 'Unconfirmed') #Combine all unknown categories\n",
    "print(df[var].value_counts()) # I ended with five categories instead of twelve which is way better, but am unsure whether boating and sea disaster fall under provoked or unprovoked."
   ]
  },
  {
   "cell_type": "code",
   "execution_count": 25,
   "metadata": {},
   "outputs": [
    {
     "name": "stdout",
     "output_type": "stream",
     "text": [
      "1    19154\n",
      "0     3801\n",
      "9       31\n",
      "Name: WhetherDefendantWasReleasedPretrial, dtype: int64\n",
      "1.0    19154\n",
      "0.0     3801\n",
      "Name: WhetherDefendantWasReleasedPretrial, dtype: int64\n"
     ]
    }
   ],
   "source": [
    "#problem 3 Dummy variable: For the pretrial data covered in the lecture, clean the WhetherDefendantWasReleasedPretrial variable as well as you can, and, in particular, replace missing values with np.nan.\n",
    "import numpy as np\n",
    "import pandas as pd\n",
    "url = 'http://www.vcsc.virginia.gov/pretrialdataproject/October%202017%20Cohort_Virginia%20Pretrial%20Data%20Project_Deidentified%20FINAL%20Update_10272021.csv'\n",
    "df = pd.read_csv(url,low_memory=False)\n",
    "var = 'WhetherDefendantWasReleasedPretrial'\n",
    "# print(df.loc[1:30,(var)],'\\n') # to see what the missing data may look like\n",
    "print(df[var].value_counts()) # show the values under each category - discovered 9 which should not be there\n",
    "df[var] = df[var].replace( [9], np.nan) # Remove and replace the 9 with np.nan because it shouldn't be there\n",
    "print(df[var].value_counts()) # yay 1s and 0s which is good!"
   ]
  },
  {
   "cell_type": "code",
   "execution_count": 16,
   "metadata": {},
   "outputs": [
    {
     "name": "stdout",
     "output_type": "stream",
     "text": [
      "1                   60\n",
      "2                   12\n",
      "3     .985626283367556\n",
      "4                     \n",
      "5                   12\n",
      "6                   36\n",
      "7                    6\n",
      "8                   24\n",
      "9                   12\n",
      "10    5.91375770020534\n",
      "Name: ImposedSentenceAllChargeInContactEvent, dtype: object \n",
      "\n",
      "1     0\n",
      "2     1\n",
      "3     1\n",
      "4     4\n",
      "5     0\n",
      "6     1\n",
      "7     0\n",
      "8     1\n",
      "9     1\n",
      "10    0\n",
      "Name: SentenceTypeAllChargesAtConvictionInContactEvent, dtype: int64 \n",
      "\n",
      "                    9053\n",
      "0                   4953\n",
      "12                  1404\n",
      ".985626283367556    1051\n",
      "6                    809\n",
      "                    ... \n",
      "183                    1\n",
      ".722792607802875       1\n",
      "35.3285420944559       1\n",
      "57.0349075975359       1\n",
      "11.3285420944559       1\n",
      "Name: ImposedSentenceAllChargeInContactEvent, Length: 484, dtype: int64\n",
      "Total Missings: \n",
      " 0 \n",
      "\n",
      "1     60.000000\n",
      "2     12.000000\n",
      "3      0.985626\n",
      "4      0.000000\n",
      "5     12.000000\n",
      "6     36.000000\n",
      "7      6.000000\n",
      "8     24.000000\n",
      "9     12.000000\n",
      "10     5.913758\n",
      "Name: ImposedSentenceAllChargeInContactEvent, dtype: float64 \n",
      "\n"
     ]
    }
   ],
   "source": [
    "#problem 4 Missing values, not at random: For the pretrial data covered in the lecture, clean the ImposedSentenceAllChargeInContactEvent variable as well as you can, and explain the choices you make. (Hint: Look at the SentenceTypeAllChargesAtConvictionInContactEvent variable.)\n",
    "import numpy as np\n",
    "import pandas as pd\n",
    "url = 'http://www.vcsc.virginia.gov/pretrialdataproject/October%202017%20Cohort_Virginia%20Pretrial%20Data%20Project_Deidentified%20FINAL%20Update_10272021.csv'\n",
    "df = pd.read_csv(url,low_memory=False)\n",
    "var = 'ImposedSentenceAllChargeInContactEvent'\n",
    "print(df.loc[1:10,(var)],'\\n')#look at some of the data to see what the outputs are\n",
    "print(df.loc[1:10, ('SentenceTypeAllChargesAtConvictionInContactEvent')], '\\n') # compare to other variable\n",
    "\n",
    "print(df[var].value_counts()) #look at the values under the variable\n",
    "df[var+'_nan'] = df[var].isnull()\n",
    "print('Total Missings: \\n', sum(df[var+'_nan']),'\\n') #determine the number of missing values\n",
    "# I am inferring that the blank values correlate to 0 so I am going to change that \n",
    "df[var] = df[var].replace( [' '], 0) # get rid of the empty values\n",
    "df[var] = pd.to_numeric(df[var], errors='coerce')\n",
    "df.mask(df[var] > 0, 1) # replace the other values that are not 0 with 1, meaning that there was an imposed sentence"
   ]
  },
  {
   "cell_type": "markdown",
   "metadata": {
    "id": "c11bcd96-2834-41a4-80fe-d354b4277fd9"
   },
   "source": [
    "**Q3.** This question provides some practice doing exploratory data analysis and visualization.\n",
    "\n",
    "The \"relevant\" variables for this question are:\n",
    "  - `level` - Level of institution (4-year, 2-year)\n",
    "  - `aid_value` - The average amount of student aid going to undergraduate recipients\n",
    "  - `control` - Public, Private not-for-profit, Private for-profit\n",
    "  - `grad_100_value` - percentage of first-time, full-time, degree-seeking undergraduates who complete a degree or certificate program within 100 percent of expected time (bachelor's-seeking group at 4-year institutions)\n",
    "\n",
    "1. Load the `./data/college_completion.csv` data with Pandas.\n",
    "2. What are are the dimensions of the data? How many observations are there? What are the variables included? Use `.head()` to examine the first few rows of data.\n",
    "3. Cross tabulate `control` and `level`. Describe the patterns you see.\n",
    "4. For `grad_100_value`, create a histogram, kernel density plot, boxplot, and statistical description.\n",
    "5. For `grad_100_value`, create a grouped kernel density plot by `control` and by `level`. Describe what you see. Use `groupby` and `.describe` to make grouped calculations of statistical descriptions of `grad_100_value` by `level` and `control`. Which institutions appear to have the best graduation rates?\n",
    "6. Create a new variable, `df['levelXcontrol']=df['level']+', '+df['control']` that interacts level and control. Make a grouped kernel density plot. Which institutions appear to have the best graduation rates?\n",
    "7. Make a kernel density plot of `aid_value`. Notice that your graph is \"bi-modal\", having two little peaks that represent locally most common values. Now group your graph by `level` and `control`. What explains the bi-modal nature of the graph? Use `groupby` and `.describe` to make grouped calculations of statistical descriptions of `aid_value` by `level` and `control`.\n",
    "8. Make a scatterplot of `grad_100_value` by `aid_value`. Describe what you see. Now make the same plot, grouping by `level` and then `control`. Describe what you see. For which kinds of institutions does aid seem to increase graduation rates?"
   ]
  },
  {
   "cell_type": "markdown",
   "metadata": {
    "id": "98d34a3b-c21d-4dc9-a8d2-fb7686804ceb"
   },
   "source": [
    "**Q4.** This question uses the Airbnb data to practice making visualizations.\n",
    "\n",
    "  1. Load the `./data/airbnb_hw.csv` data with Pandas. You should have cleaned the `Price` variable in question 2, and you'll need it later for this question.\n",
    "  2. What are are the dimensions of the data? How many observations are there? What are the variables included? Use `.head()` to examine the first few rows of data.\n",
    "  3. Cross tabulate `Room Type` and `Property Type`. What patterns do you see in what kinds of rentals are available? For which kinds of properties are private rooms more common than renting the entire property?\n",
    "  4. For `Price`, make a histogram, kernel density, box plot, and a statistical description of the variable. Are the data badly scaled? Are there many outliers? Use `log` to transform price into a new variable, `price_log`, and take these steps again.\n",
    "  5. Make a scatterplot of `price_log` and `Beds`. Describe what you see. Use `.groupby()` to compute a desciption of `Price` conditional on/grouped by the number of beds. Describe any patterns you see in the average price and standard deviation in prices.\n",
    "  6. Make a scatterplot of `price_log` and `Beds`, but color the graph by `Room Type` and `Property Type`. What patterns do you see? Compute a description of `Price` conditional on `Room Type` and `Property Type`. Which Room Type and Property Type have the highest prices on average? Which have the highest standard deviation? Does the mean or median appear to be a more reliable estimate of central tendency, and explain why?\n",
    "  7. We've looked a bit at this `price_log` and `Beds` scatterplot. Use seaborn to make a `jointplot` with `kind=hex`. Where are the data actually distributed? How does it affect the way you think about the plots in 5 and 6?"
   ]
  },
  {
   "cell_type": "markdown",
   "metadata": {
    "id": "649494cd-cfd6-4f80-992a-9994fc19e1d5"
   },
   "source": [
    "**Q5.** Many important datasets contain a race variable, typically limited to a handful of values often including Black, White, Asian, Latino, and Indigenous. This question looks at data gathering efforts on this variable by the U.S. Federal government.\n",
    "\n",
    "1. How did the most recent US Census gather data on race?\n",
    "    \n",
    "    The most recent US Census uses two questions to gather data on race and ethnicity; one of latin or hispanic origin and one of race.\n",
    "    \n",
    "2. Why do we gather these data? What role do these kinds of data play in politics and society? Why does data quality matter?\n",
    "    \n",
    "    This data is gathered to determine how people in the US identify themselves and see the dispersion of each identity group across America. These kinds of data are necessary to notice in politics and society because an even distribution of race across jobs and other activities is desired. Data quality matters because the answers are not always black and white, there are a lot of middle grounds and the data can be skewed one way or another if it is not collected and organized properly. \n",
    "    \n",
    "3. Please provide a constructive criticism of how the Census was conducted: What was done well? What do you think was missing? How should future large scale surveys be adjusted to best reflect the diversity of the population? Could some of the Census' good practices be adopted more widely to gather richer and more useful data?\n",
    "    \n",
    "    I think that the Census tried to do a good job on collecting more data by adding a second question, however I think that there should just be one question and it should allow people to choose the level at which they are each thing (for example, 50% white, 50% black, 100% female). This allows the mixture of each identity to be an option and the diversity to be better reflected.\n",
    "    \n",
    "4. How did the Census gather data on sex and gender? Please provide a similar constructive criticism of their practices.\n",
    "    \n",
    "    The Census did not collect data on gender, but just sex, and it based it on the given biology at birth. I think that the sex given at birth is a necessary question to ask but there should also be another question with a variety of answers and spectrums for each person to place their identiy within (similar to above). There are lots of people who identify differently than their given sex and it is a little bit naive for the question to be overlooked. \n",
    "    \n",
    "5. When it comes to cleaning data, what concerns do you have about protected characteristics like sex, gender, sexual identity, or race? What challenges can you imagine arising when there are missing values? What good or bad practices might people adopt, and why?\n",
    "    \n",
    "    It is more difficult to clean data that is correct because there are so many aspects that can fall into one person. That is why I think it should be a spectrum because then these can be turned into numbers or proportions within each person. Those that are 0% white will just have a 0 in that category, which diminishes the missing values. People may want to put the data into boxes, but the reality is that there are very few people who are just one thing. \n",
    "    \n",
    "6. Suppose someone invented an algorithm to impute values for protected characteristics like race, gender, sex, or sexuality. What kinds of concerns would you have?\n",
    "    \n",
    "    The only concern I would have is the possibility of these things changing for the person over time and then becoming incorrect in the system. Identity is something that people figure out as they travel through life, whether that be just what they enjoy, or who they actually are. "
   ]
  },
  {
   "cell_type": "markdown",
   "metadata": {
    "id": "2f38f2fd-6381-481d-bba9-017f3d363426"
   },
   "source": [
    "**Q6.** Open the `./data/CBO_data.pdf` file. This contains tax data for 2019, explaining where the money comes from that the U.S. Federal Government Spends in terms of taxation on individuals/families and payroll taxes (the amount that your employer pays in taxes on your wages).\n",
    "\n",
    "For some context, the Federal government ultimately spent about $4.4 trillion in 2019, which was 21% of GDP (the total monetary value of all goods and services produced within the United States). Individual Income Taxes is the amount individuals pay on their wages to the Federal government, Corporate Income Taxes is the taxes individuals pay on capital gains from investment when they sell stock or other financial instruments, Payroll Taxes is the tax your employer pays on your wages, Excises and Customs Duties are taxes on goods or services like sin taxes on cigarettes or alcohol, and Estate and Gift Taxes are taxes paid on transfers of wealth to other people.\n",
    "\n",
    "1. Get the Millions of Families and Billions of Dollars data into a .csv file and load it with Pandas.\n",
    "2. Create a bar plot of individual income taxes by income decile. Explain what the graph shows. Why are some values negative?\n",
    "3. Create a bar plot of Total Federal Taxes by income decile. Which deciles are paying net positive amounts, and which are paying net negative amounts?\n",
    "4. Create a stacked bar plot for which Total Federal Taxes is grouped by Individual Income Taxes, Payroll Taxes, Excises and Customs Duties, and Estate and Gift Taxes. How does the share of taxes paid vary across the adjusted income deciles? (Hint: Are these the kind of data you want to melt?)\n",
    "5. Below the Total line for Millions of Families and Billions of Dollars, there are data for the richest of the richest families. Plot this alongside the bars for the deciles above the Total line. Describe your results.\n",
    "6. Get the Percent Distribution data into a .csv file and load it with Pandas. Create a bar graph of Total Federal Taxes by income decile.\n",
    "7. A tax system is progressive if higher-income and wealthier individuals pay more than lower-income and less wealthy individuals, and it is regressive if the opposite is true. Is the U.S. tax system progressive in terms of amount paid? In terms of the percentage of the overall total?\n",
    "8. Do the rich pay enough in taxes? Defend your answer."
   ]
  }
 ],
 "metadata": {
  "colab": {
   "provenance": []
  },
  "kernelspec": {
   "display_name": "Python 3",
   "language": "python",
   "name": "python3"
  },
  "language_info": {
   "codemirror_mode": {
    "name": "ipython",
    "version": 3
   },
   "file_extension": ".py",
   "mimetype": "text/x-python",
   "name": "python",
   "nbconvert_exporter": "python",
   "pygments_lexer": "ipython3",
   "version": "3.8.8"
  }
 },
 "nbformat": 4,
 "nbformat_minor": 5
}
